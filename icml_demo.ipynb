{
 "cells": [
  {
   "cell_type": "markdown",
   "metadata": {},
   "source": [
    "# NNCodec Demo @ ICML 2023 Neural Compression Workshop  \n",
    "\n",
    "## Compressed DeepLabV3 solving the Pascal VOC semantic segmentation task"
   ]
  },
  {
   "cell_type": "markdown",
   "metadata": {},
   "source": [
    "### Setup"
   ]
  },
  {
   "cell_type": "markdown",
   "metadata": {},
   "source": [
    "#### Imports"
   ]
  },
  {
   "cell_type": "code",
   "execution_count": null,
   "metadata": {},
   "outputs": [],
   "source": [
    "import nnc\n",
    "import torch, torchvision"
   ]
  },
  {
   "cell_type": "markdown",
   "metadata": {},
   "source": [
    "#### Reproducibility"
   ]
  },
  {
   "cell_type": "code",
   "execution_count": null,
   "metadata": {},
   "outputs": [],
   "source": [
    "import random, numpy, os\n",
    "torch.manual_seed(808)\n",
    "random.seed(909)\n",
    "numpy.random.seed(303)\n",
    "torch.backends.cudnn.deterministic = True\n",
    "torch.backends.cudnn.benchmark = False\n",
    "if int(torch.version.cuda.split(\".\")[0]) > 10 or \\\n",
    "        (int(torch.version.cuda.split(\".\")[0]) == 10 and int(torch.version.cuda.split(\".\")[1]) >= 2):\n",
    "    os.environ[\"CUBLAS_WORKSPACE_CONFIG\"] = \":4096:8\""
   ]
  },
  {
   "cell_type": "markdown",
   "metadata": {},
   "source": [
    "#### Environment, data and evaluation function initialization"
   ]
  },
  {
   "cell_type": "code",
   "execution_count": null,
   "metadata": {
    "ExecuteTime": {
     "end_time": "2023-07-14T17:36:36.225965103Z",
     "start_time": "2023-07-14T17:36:35.349635030Z"
    }
   },
   "outputs": [],
   "source": [
    "from framework.pytorch_model import __initialize_data_functions, np_to_torch\n",
    "from framework.use_case_init import use_cases\n",
    "from framework.applications.utils.evaluation import evaluate_classification_model\n",
    "\n",
    "dataset_path = \"./example/VOC_demo\"\n",
    "device = torch.device(\"cuda:0\" if torch.cuda.is_available() else \"cpu\")\n",
    "model = torchvision.models.get_model(\"deeplabv3_resnet50\", weights=\"DEFAULT\")\n",
    "criterion = torch.nn.CrossEntropyLoss()\n",
    "\n",
    "# data loaders\n",
    "test_set, test_loader, val_set, val_loader, train_loader = __initialize_data_functions(handler=use_cases['NNR_PYT_VOC'],\n",
    "                                                                                       dataset_path=dataset_path,\n",
    "                                                                                       batch_size=1,\n",
    "                                                                                       num_workers=0)\n",
    "# evaluation function\n",
    "def eval_compressed_model(bitstream, prefix, verbose=False, uncompressed_iou=None):\n",
    "    model.load_state_dict(np_to_torch(nnc.decompress(bitstream, verbose=verbose)))\n",
    "    _ = evaluate_classification_model(model, criterion, test_loader, test_set, device=device, verbose=verbose, \n",
    "                                      plot_segmentation_masks=True, prefix=prefix, orig_iou=uncompressed_iou)"
   ]
  },
  {
   "cell_type": "markdown",
   "metadata": {},
   "source": [
    "### Test the uncompressed model, transparenetly compress it and verify the decoded model"
   ]
  },
  {
   "cell_type": "code",
   "execution_count": null,
   "metadata": {
    "scrolled": true
   },
   "outputs": [],
   "source": [
    "test_model = torchvision.models.get_model(\"deeplabv3_resnet50\", weights=\"DEFAULT\")\n",
    "sIoU,_,_ = evaluate_classification_model(test_model, criterion, test_loader, test_set, device=device, verbose=False, \n",
    "                                         plot_segmentation_masks=True)\n",
    "\n",
    "# compress the model\n",
    "bs = nnc.compress_model(test_model,\n",
    "                        bitstream_path='bitstream.nnc',\n",
    "                        use_case='NNR_PYT_VOC',\n",
    "                        dataset_path=dataset_path,\n",
    "                        qp=-46,\n",
    "                        use_dq=True,\n",
    "                        opt_qp=True,\n",
    "                        return_bitstream=True,\n",
    "                        num_workers=0,\n",
    "                        batch_size=1)\n",
    "\n",
    "# decompress the bitstream\n",
    "rec_mdl_params = nnc.decompress(bs)\n",
    "\n",
    "# evaluation of decoded and reconstructed model\n",
    "test_model.load_state_dict(np_to_torch(rec_mdl_params))\n",
    "\n",
    "_ = evaluate_classification_model(test_model, criterion, test_loader, test_set, device=device, verbose=False, \n",
    "                                  plot_segmentation_masks=True, prefix=\"_compressed\", orig_iou=sIoU)"
   ]
  },
  {
   "cell_type": "markdown",
   "metadata": {},
   "source": [
    "## Now lets compress the model higher until the segmentation masks are too faulty"
   ]
  },
  {
   "cell_type": "code",
   "execution_count": null,
   "metadata": {},
   "outputs": [],
   "source": [
    "def nnc_compress_model(qp):\n",
    "    return nnc.compress_model(torchvision.models.get_model(\"deeplabv3_resnet50\", weights=\"DEFAULT\"),\n",
    "                              bitstream_path='bitstream.nnc',\n",
    "                              use_case='NNR_PYT_VOC',\n",
    "                              dataset_path=\"./example/VOC_demo\",\n",
    "                              qp=qp,\n",
    "                              opt_qp=True,\n",
    "                              use_dq=True,\n",
    "                              return_bitstream=True,\n",
    "                              num_workers=0,\n",
    "                              batch_size=1,\n",
    "                              verbose=False)"
   ]
  },
  {
   "cell_type": "code",
   "execution_count": null,
   "metadata": {
    "ExecuteTime": {
     "end_time": "2023-07-14T17:37:23.797490969Z",
     "start_time": "2023-07-14T17:37:05.103764894Z"
    }
   },
   "outputs": [],
   "source": [
    "for qp in [-44, -42, -40, -38, -36, -34, -33, -32, -30]:\n",
    "    print(f\"QP: {qp}\")\n",
    "    bitstream = nnc_compress_model(qp=qp)\n",
    "    eval_compressed_model(bitstream, prefix=f\"_compressed_qp_{qp}\", uncompressed_iou=sIoU)\n"
   ]
  },
  {
   "cell_type": "code",
   "execution_count": null,
   "metadata": {},
   "outputs": [],
   "source": []
  }
 ],
 "metadata": {
  "kernelspec": {
   "display_name": "Python 3 (ipykernel)",
   "language": "python",
   "name": "python3"
  },
  "language_info": {
   "codemirror_mode": {
    "name": "ipython",
    "version": 3
   },
   "file_extension": ".py",
   "mimetype": "text/x-python",
   "name": "python",
   "nbconvert_exporter": "python",
   "pygments_lexer": "ipython3",
   "version": "3.8.16"
  },
  "vscode": {
   "interpreter": {
    "hash": "dd76216007e7fa885fd8ec5e6b1f9a4fcf0ff1e36ab5444954d38fdd7565876e"
   }
  }
 },
 "nbformat": 4,
 "nbformat_minor": 2
}
